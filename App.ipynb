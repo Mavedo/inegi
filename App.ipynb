{
 "cells": [
  {
   "cell_type": "code",
   "execution_count": 10,
   "id": "038ce5a9",
   "metadata": {},
   "outputs": [],
   "source": [
    "#Import modules and dependecies\n",
    "import pandas as pd\n",
    "import numpy as np\n",
    "import plotly.express as px\n",
    "\n",
    "import requests\n",
    "\n",
    "from dash import html, Dash, dcc\n",
    "import dash_bootstrap_components as dbc\n",
    "from dash.dependencies import Input, Output\n",
    "from dash_bootstrap_templates import load_figure_template"
   ]
  },
  {
   "cell_type": "code",
   "execution_count": 6,
   "id": "9af1882b",
   "metadata": {},
   "outputs": [],
   "source": [
    "#Load dataframes\n",
    "df1 = pd.read_csv('datasets/final_df1.csv')\n",
    "df1_multi = pd.read_csv('datasets/final_df1.csv', index_col=[0,1])\n",
    "df2 = pd.read_csv('datasets/final_df2.csv', index_col=0)"
   ]
  },
  {
   "cell_type": "code",
   "execution_count": 47,
   "id": "7ed840ff",
   "metadata": {},
   "outputs": [
    {
     "data": {
      "text/html": [
       "\n",
       "        <iframe\n",
       "            width=\"100%\"\n",
       "            height=\"650\"\n",
       "            src=\"http://127.0.0.1:56666/\"\n",
       "            frameborder=\"0\"\n",
       "            allowfullscreen\n",
       "            \n",
       "        ></iframe>\n",
       "        "
      ],
      "text/plain": [
       "<IPython.lib.display.IFrame at 0x1f21ef5a950>"
      ]
     },
     "metadata": {},
     "output_type": "display_data"
    }
   ],
   "source": [
    "#Create the map\n",
    "\n",
    "dbc_css = \"https://cdn.jsdelivr.net/gh/AnnMarieW/dash-bootstrap-templates/dbc.min.css\"\n",
    "\n",
    "app = Dash(__name__, external_stylesheets=[dbc.themes.SLATE, dbc_css])\n",
    "\n",
    "app.layout = html.Div([\n",
    "    dbc.Row([\n",
    "        html.H3(id='titulo-mapa', style={\"text-align\": \"center\"})\n",
    "    ]),\n",
    "    dbc.Row([\n",
    "        dbc.Col([\n",
    "            dbc.Card(dcc.Markdown('Rango de edad:')),\n",
    "            dcc.Dropdown(\n",
    "                id='dropdown-edad',\n",
    "                options=[\n",
    "                    {'label': '0-19 años', 'value': 'Porcentaje de 0-19 años'},\n",
    "                    {'label': '20-39 años', 'value': 'Porcentaje de 20-39 años'},\n",
    "                    {'label': '40-59 años', 'value': 'Porcentaje de 40-59 años'},\n",
    "                    {'label': '60-79 años', 'value': 'Porcentaje de 60-79 años'},\n",
    "                    {'label': '+80 años', 'value': 'Porcentaje de 80 y más años'},\n",
    "                ],\n",
    "                value='Porcentaje de 80 y más años',\n",
    "                className='dbc'\n",
    "            ),\n",
    "            html.Br(),\n",
    "            dbc.Card(dcc.Markdown('Año de censo:')),\n",
    "            dcc.Dropdown(\n",
    "                id='dropdown-año',\n",
    "                options=[1995,2000,2005,2010,2020],\n",
    "                value=1995,\n",
    "                className='dbc'\n",
    "            )\n",
    "        ],width=3),\n",
    "        dbc.Col([\n",
    "            dcc.Graph(id='mapa')\n",
    "        ],width=8),\n",
    "    ])\n",
    "])\n",
    "\n",
    "@app.callback(\n",
    "    Output('titulo-mapa','children')\n",
    "    Output('mapa', 'figure'),\n",
    "    Input('dropdown-edad', 'value'),\n",
    "    Input('dropdown-año', 'value')\n",
    ")\n",
    "def mapa_estados(rango_edades, año_censo):\n",
    "    pass\n",
    "\n",
    "app.run(\n",
    "    debug=True, \n",
    "    port=56666, \n",
    "    #jupyter_mode='internal'\n",
    ")"
   ]
  }
 ],
 "metadata": {
  "kernelspec": {
   "display_name": "Python 3 (ipykernel)",
   "language": "python",
   "name": "python3"
  },
  "language_info": {
   "codemirror_mode": {
    "name": "ipython",
    "version": 3
   },
   "file_extension": ".py",
   "mimetype": "text/x-python",
   "name": "python",
   "nbconvert_exporter": "python",
   "pygments_lexer": "ipython3",
   "version": "3.11.7"
  }
 },
 "nbformat": 4,
 "nbformat_minor": 5
}
