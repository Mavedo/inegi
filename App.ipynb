{
 "cells": [
  {
   "cell_type": "code",
   "execution_count": 1,
   "id": "cf9bf4d7",
   "metadata": {},
   "outputs": [],
   "source": [
    "#Import modules and dependecies\n",
    "import pandas as pd\n",
    "import numpy as np\n",
    "import plotly.express as px\n",
    "\n",
    "from dash import html, Dash, dcc\n",
    "import dash_bootstrap_components as dbc\n",
    "from dash.dependencies import Input, Output\n",
    "from dash_bootstrap_templates import load_figure_template"
   ]
  },
  {
   "cell_type": "code",
   "execution_count": 6,
   "id": "1e6e719a",
   "metadata": {},
   "outputs": [],
   "source": [
    "#Load dataframes\n",
    "df1 = pd.read_csv('datasets/final_df1.csv')\n",
    "df1_multi = pd.read_csv('datasets/final_df1.csv', index_col=[0,1])\n",
    "df2 = pd.read_csv('datasets/final_df2.csv', index_col=0)"
   ]
  },
  {
   "cell_type": "code",
   "execution_count": 8,
   "id": "4630e950",
   "metadata": {},
   "outputs": [],
   "source": [
    "#Create the map"
   ]
  }
 ],
 "metadata": {
  "kernelspec": {
   "display_name": "Python 3 (ipykernel)",
   "language": "python",
   "name": "python3"
  },
  "language_info": {
   "codemirror_mode": {
    "name": "ipython",
    "version": 3
   },
   "file_extension": ".py",
   "mimetype": "text/x-python",
   "name": "python",
   "nbconvert_exporter": "python",
   "pygments_lexer": "ipython3",
   "version": "3.11.7"
  }
 },
 "nbformat": 4,
 "nbformat_minor": 5
}
